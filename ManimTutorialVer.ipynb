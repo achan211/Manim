{
  "nbformat": 4,
  "nbformat_minor": 0,
  "metadata": {
    "colab": {
      "name": "ManimTutorialVer.ipynb",
      "provenance": [],
      "collapsed_sections": []
    },
    "kernelspec": {
      "name": "python3",
      "display_name": "Python 3"
    },
    "language_info": {
      "name": "python"
    }
  },
  "cells": [
    {
      "cell_type": "markdown",
      "metadata": {
        "id": "eV36WROvtKg7"
      },
      "source": [
        "# Welcome to Manim\n",
        "Please be noted that this ver. uses Manim CE\n",
        "\n",
        "\n",
        "Before we begin, please execute the following code: "
      ]
    },
    {
      "cell_type": "code",
      "metadata": {
        "id": "S2yff3ZYtK2u"
      },
      "source": [
        "# For initializing the Manim CE\n",
        "\n",
        "!sudo apt update\n",
        "!sudo apt install libcairo2-dev ffmpeg texlive texlive-latex-extra texlive-fonts-extra texlive-latex-recommended texlive-science tipa libpango1.0-dev\n",
        "!pip install manim\n",
        "!pip install IPython --upgrade"
      ],
      "execution_count": null,
      "outputs": []
    },
    {
      "cell_type": "markdown",
      "metadata": {
        "id": "UeLmnem5utIj"
      },
      "source": [
        "Press **RESTART RUNTIME** before executing the codes below"
      ]
    },
    {
      "cell_type": "code",
      "metadata": {
        "id": "x2pzB2iBtMSG"
      },
      "source": [
        "# Import Manim & Numpy into this file. \n",
        "\n",
        "from manim import *\n",
        "import numpy as np\n",
        "\n",
        "# Do NOT delete the following\n",
        "\n",
        "class ShowPartial(Animation):\n",
        "\n",
        "    def __init__(self, mobject, **kwargs):\n",
        "        if not isinstance(mobject, VMobject):\n",
        "            raise TypeError(\"This Animation only works on vectorized mobjects\")\n",
        "        super().__init__(mobject, **kwargs)\n",
        "\n",
        "    def interpolate_submobject(self, submob, start_submob, alpha):\n",
        "        submob.pointwise_become_partial(start_submob, *self.get_bounds(alpha))\n",
        "\n",
        "    def get_bounds(self, alpha):\n",
        "        raise NotImplementedError(\"Please use ShowCreation or ShowPassingFlash\")\n",
        "\n",
        "\n",
        "class ShowCreation(ShowPartial):\n",
        "    CONFIG = {\n",
        "        \"lag_ratio\": 1,\n",
        "    }\n",
        "\n",
        "    def get_bounds(self, alpha):\n",
        "        return (0, alpha)"
      ],
      "execution_count": null,
      "outputs": []
    },
    {
      "cell_type": "code",
      "metadata": {
        "id": "JN0TG2l2tcE5"
      },
      "source": [
        "# This scene is to test whether you have installed and import Manim successfully\n",
        "# You may delete this in the future\n",
        "\n",
        "class TestScene(Scene): \n",
        "  def construct(self): \n",
        "    plane = NumberPlane()\n",
        "    line = plane.get_graph(lambda x: np.sin(x / 2) + np.cos(x**2 - 3), color = GREEN)\n",
        "\n",
        "    self.play(ShowCreation(plane))\n",
        "    self.play(ShowCreation(line, run_time = 3))\n",
        "    self.wait(2)\n",
        "    group = VGroup(plane, line)\n",
        "    def Modify(group):\n",
        "      group.scale(0.5)\n",
        "      group.shift(DOWN * 1)\n",
        "      return group\n",
        "    self.play(ApplyFunction(Modify, group))\n",
        "    title = Tex(r\"$y = \\sin(\\frac{x}{2})+\\cos(x^2-3)$\").scale(1.2)\n",
        "    title.next_to(group, UP * 1.2)\n",
        "    self.play(Write(title))\n",
        "    self.wait()\n",
        "\n",
        "%manim TestScene"
      ],
      "execution_count": null,
      "outputs": []
    },
    {
      "cell_type": "markdown",
      "metadata": {
        "id": "qJ9Eb91qtZ1D"
      },
      "source": [
        "#Edit the code below: \n",
        "\n",
        "You may now create your own contents: "
      ]
    }
  ]
}
